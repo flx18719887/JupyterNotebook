{
 "cells": [
  {
   "cell_type": "code",
   "execution_count": 2,
   "metadata": {},
   "outputs": [],
   "source": [
    "from IPython.core.interactiveshell import InteractiveShell\n",
    "InteractiveShell.ast_node_interactivity = \"all\""
   ]
  },
  {
   "cell_type": "markdown",
   "metadata": {},
   "source": [
    "# 字符串的格式化输出"
   ]
  },
  {
   "cell_type": "markdown",
   "metadata": {},
   "source": [
    "## 使用%"
   ]
  },
  {
   "cell_type": "code",
   "execution_count": 15,
   "metadata": {},
   "outputs": [
    {
     "name": "stdout",
     "output_type": "stream",
     "text": [
      "good luck to 3\n",
      "good luck to 3\n"
     ]
    }
   ],
   "source": [
    "str = \"good luck to %d\"\n",
    "print(str%3)\n",
    "mstr = \"good luck to %d\" %3\n",
    "print(mstr)"
   ]
  },
  {
   "cell_type": "code",
   "execution_count": 17,
   "metadata": {},
   "outputs": [
    {
     "name": "stdout",
     "output_type": "stream",
     "text": [
      "今天是阴天, 明天温度是32.56\n"
     ]
    }
   ],
   "source": [
    "mstr = \"今天是%s, 明天温度是%.2f\"%(\"阴天\", 32.56)\n",
    "print(mstr)"
   ]
  },
  {
   "cell_type": "markdown",
   "metadata": {},
   "source": [
    "- 格式\n",
    "- %[(name)][flags][width].[precision]typecode"
   ]
  },
  {
   "cell_type": "markdown",
   "metadata": {},
   "source": [
    "- (name)可选，用于选择指定的key\n",
    "\n",
    "- flags 可选，可供选择的值有:\n",
    "\n",
    "+右对齐；正数前加正好，负数前加负号；\n",
    "\n",
    "-左对齐；正数前无符号，负数前加负号；\n",
    "\n",
    "空格 右对齐；正数前加空格，负数前加负号；\n",
    "\n",
    "0 右对齐；正数前无符号，负数前加负号；用0填充空白处\n",
    "\n",
    "width 可选，占有宽度\n",
    "\n",
    ".precision 可选，小数点后保留的位数\n",
    "\n",
    "- typecode 必选\n",
    "\n",
    "s    获取传入对象的__str__方法的返回值，并将其格式化到指定位置\n",
    "\n",
    "r    获取传入对象的__repr__方法的返回值，并将其格式化到指定位置\n",
    "\n",
    "c    整数：将数字转换成其unicode对应的值，10进制范围为 0 <= i <= 1114111（py27则只支持0-255）；字符：将字符添加到指定位置\n",
    "\n",
    "o    将整数转换成 八 进制表示，并将其格式化到指定位置\n",
    "\n",
    "x    将整数转换成十六进制表示，并将其格式化到指定位置\n",
    "\n",
    "d    将整数、浮点数转换成 十 进制表示，并将其格式化到指定位置\n",
    "\n",
    "e    将整数、浮点数转换成科学计数法，并将其格式化到指定位置（小写e）\n",
    "\n",
    "E    将整数、浮点数转换成科学计数法，并将其格式化到指定位置（大写E）\n",
    "\n",
    "f    将整数、浮点数转换成浮点数表示，并将其格式化到指定位置（默认保留小数点后6位）\n",
    "\n",
    "F    同上\n",
    "\n",
    "g    自动调整将整数、浮点数转换成 浮点型或科学计数法表示（超过6位数用科学计数\n",
    "法），并将其格式化到指定位置（如果是科学计数则是e；）\n",
    "\n",
    "G    自动调整将整数、浮点数转换成 浮点型或科学计数法表示（超过6位数用科学计数法），并将其格式化到指定位置（如果是科学计数则是E；）\n",
    "\n",
    "%    当字符串中存在格式化标志时，需要用 %%表示一个百分号 注：Python中百分号格式化是不存在自动将整数转换成二进制表示的方式"
   ]
  },
  {
   "cell_type": "code",
   "execution_count": 1,
   "metadata": {},
   "outputs": [
    {
     "name": "stdout",
     "output_type": "stream",
     "text": [
      "I am Jack, I am 20 years old\n",
      "I am Jacy, I am 23 years old\n",
      "I am       jeck, I am 24 years old, I am 1.79\n",
      "原数: 15, 八进制: 17, 十六进制: f\n",
      "原数: 100000000, 科学计数法e: 1.000000e+08, 科学计数法E: 1.000000E+08\n",
      "百分比显示: 1.45%\n",
      "百分比显示: 78%\n"
     ]
    }
   ],
   "source": [
    "# 按位置顺序依次输出\n",
    "str1 = \"I am %s, I am %d years old\" % (\"Jack\", 20)\n",
    "# 自定义key输出\n",
    "str2 = \"I am %(name)s, I am %(age)d years old\" % {\"name\" : \"Jacy\", \"age\" : 23}\n",
    "# 定义名字宽度为10，并右对齐。定义身高为浮点类型，保留小数点2位\n",
    "str3 = \"I am %(name)+10s, I am %(age)d years old, I am %(height).2f\" % {\"name\":\"jeck\", \"age\":24, \"height\":1.7872}\n",
    "# 八进制、十六进制转换\n",
    "str4 = \"原数: %d, 八进制: %o, 十六进制: %x\" %(15, 15, 15)\n",
    "# 科学计数法表\n",
    "str5 = \"原数: %d, 科学计数法e: %e, 科学计数法E: %E\" %(100000000,100000000,100000000)\n",
    "# 百分号显示\n",
    "str6 = \"百分比显示: %.2f%%\" % 1.45\n",
    "str7 = \"百分比显示: %d%%\" % 78\n",
    "\n",
    "print(str1)\n",
    "print(str2)\n",
    "print(str3)\n",
    "print(str4)\n",
    "print(str5)\n",
    "print(str6)\n",
    "print(str7)"
   ]
  },
  {
   "cell_type": "markdown",
   "metadata": {},
   "source": [
    "## 使用format格式"
   ]
  },
  {
   "cell_type": "markdown",
   "metadata": {},
   "source": [
    "- 格式\n",
    "[[fill]align][sign][#][0][width][,][.precision][type]\n",
    "- fill  可选  空白处填充的字符\n",
    "- align 可选  对齐方式（需配合width使用）\n",
    "<   内容左对齐\n",
    "\n",
    ">   内容右对齐(默认)\n",
    "\n",
    "＝  内容右对齐，将符号放置在填充字符的左侧，且只对数字类型有效。 即使：符号+填充物+数字\n",
    "，内容居中\n",
    "- sign  可选 有无符号数字\n",
    "\n",
    "+，正号加正，负号加负；\n",
    "\n",
    "-，正号不变，负号加负；\n",
    "\n",
    "空格 ，正号空格，负号加负；\n",
    "\n",
    "\n",
    "- “#”  可选   对于二进制、八进制、十六进制，如果加上#，会显示 0b/0o/0x，否则不显示\n",
    "- ， 可选   为数字添加分隔符，如：1,000,000\n",
    "- width     可选   格式化位所占宽度\n",
    "- .precision    可选   小数位保留精度\n",
    "- type    可选   格式化类型\n",
    "- 传入” 字符串类型 “的参数\n",
    "s，格式化字符串类型数据\n",
    "\n",
    "空白，未指定类型，则默认是None，同s\n",
    "\n",
    "- 传入“ 整数类型 ”的参数\n",
    "b，将10进制整数自动转换成2进制表示然后格式化\n",
    "\n",
    "c，将10进制整数自动转换为其对应的unicode字符\n",
    "\n",
    "d，十进制整数\n",
    "\n",
    "o，将10进制整数自动转换成8进制表示然后格式化；\n",
    "\n",
    "x，将10进制整数自动转换成16进制表示然后格式化（小写x）\n",
    "\n",
    "X，将10进制整数自动转换成16进制表示然后格式化（大写X）\n",
    "\n",
    "- 传入“ 浮点型或小数类型 ”的参数\n",
    "e， 转换为科学计数法（小写e）表示，然后格式化；\n",
    "\n",
    "E， 转换为科学计数法（大写E）表示，然后格式化;\n",
    "\n",
    "f ， 转换为浮点型（默认小数点后保留6位）表示，然后格式化；\n",
    "\n",
    "F， 转换为浮点型（默认小数点后保留6位）表示，然后格式化；\n",
    "\n",
    "g， 自动在e和f中切换\n",
    "\n",
    "G， 自动在E和F中切换\n",
    "\n",
    "%，显示百分比（默认显示小数点后6位）"
   ]
  },
  {
   "cell_type": "code",
   "execution_count": 18,
   "metadata": {},
   "outputs": [
    {
     "name": "stdout",
     "output_type": "stream",
     "text": [
      "I am Jack, I am 24d years old\n",
      "I am Jeck, I am 23d years old\n"
     ]
    }
   ],
   "source": [
    "f1 = \"I am {0}, I am {1}d years old\".format(\"Jack\", 24)\n",
    "f2 = \"I am {name}, I am {age}d years old\".format(**{\"name\":\"Jeck\", \"age\":23})\n",
    "print(f1)\n",
    "print(f2)"
   ]
  },
  {
   "cell_type": "code",
   "execution_count": null,
   "metadata": {},
   "outputs": [],
   "source": []
  }
 ],
 "metadata": {
  "kernelspec": {
   "display_name": "Python 3",
   "language": "python",
   "name": "python3"
  },
  "language_info": {
   "codemirror_mode": {
    "name": "ipython",
    "version": 3
   },
   "file_extension": ".py",
   "mimetype": "text/x-python",
   "name": "python",
   "nbconvert_exporter": "python",
   "pygments_lexer": "ipython3",
   "version": "3.7.3"
  },
  "toc": {
   "base_numbering": 1,
   "nav_menu": {},
   "number_sections": true,
   "sideBar": true,
   "skip_h1_title": false,
   "title_cell": "Table of Contents",
   "title_sidebar": "Contents",
   "toc_cell": false,
   "toc_position": {},
   "toc_section_display": true,
   "toc_window_display": true
  }
 },
 "nbformat": 4,
 "nbformat_minor": 2
}
